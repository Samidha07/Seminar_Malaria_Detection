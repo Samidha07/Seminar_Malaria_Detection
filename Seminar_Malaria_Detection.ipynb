{
  "nbformat": 4,
  "nbformat_minor": 0,
  "metadata": {
    "colab": {
      "provenance": [],
      "authorship_tag": "ABX9TyM6ITiaRYqibRgp1cx8/qDH",
      "include_colab_link": true
    },
    "kernelspec": {
      "name": "python3",
      "display_name": "Python 3"
    },
    "language_info": {
      "name": "python"
    }
  },
  "cells": [
    {
      "cell_type": "markdown",
      "metadata": {
        "id": "view-in-github",
        "colab_type": "text"
      },
      "source": [
        "<a href=\"https://colab.research.google.com/github/Samidha07/Seminar_Malaria_Detection/blob/main/Seminar_Malaria_Detection.ipynb\" target=\"_parent\"><img src=\"https://colab.research.google.com/assets/colab-badge.svg\" alt=\"Open In Colab\"/></a>"
      ]
    },
    {
      "cell_type": "code",
      "execution_count": null,
      "metadata": {
        "id": "x_tEImC2JYpX"
      },
      "outputs": [],
      "source": [
        "from tensorflow.keras.layers import Input, Lambda, Dense, Flatten,Conv2D\n",
        "from tensorflow.keras.models import Model\n",
        "from tensorflow.keras.applications.vgg19 import VGG19\n",
        "from tensorflow.keras.applications.resnet50 import preprocess_input\n",
        "from tensorflow.keras.preprocessing import image\n",
        "from tensorflow.keras.preprocessing.image import ImageDataGenerator,load_img\n",
        "from tensorflow.keras.models import Sequential\n",
        "import numpy as np\n",
        "from glob import glob\n",
        "import matplotlib.pyplot as plt"
      ]
    },
    {
      "cell_type": "code",
      "source": [
        "import tensorflow as tf\n",
        "print(tf.__version__)"
      ],
      "metadata": {
        "colab": {
          "base_uri": "https://localhost:8080/"
        },
        "id": "L8RteLApJibk",
        "outputId": "87237a90-a3a2-4c2f-86d1-fc5a843535b3"
      },
      "execution_count": null,
      "outputs": [
        {
          "output_type": "stream",
          "name": "stdout",
          "text": [
            "2.15.0\n"
          ]
        }
      ]
    },
    {
      "cell_type": "code",
      "source": [
        "IMAGE_SIZE = [224, 224]\n",
        "\n",
        "train_path = 'Train'\n",
        "valid_path = 'Test'"
      ],
      "metadata": {
        "id": "KXUbqUtlJ7h_"
      },
      "execution_count": null,
      "outputs": []
    },
    {
      "cell_type": "code",
      "source": [
        "vgg19 = VGG19(input_shape=IMAGE_SIZE + [3], weights='imagenet', include_top=False)\n"
      ],
      "metadata": {
        "id": "-btLF_2sLEE6"
      },
      "execution_count": null,
      "outputs": []
    },
    {
      "cell_type": "code",
      "source": [
        "for layer in vgg19.layers:\n",
        "    layer.trainable = False"
      ],
      "metadata": {
        "id": "3LwVIG6MLSG0"
      },
      "execution_count": null,
      "outputs": []
    },
    {
      "cell_type": "code",
      "source": [
        "folders = glob('Train/*')"
      ],
      "metadata": {
        "id": "hn6tZNJFLVeq"
      },
      "execution_count": null,
      "outputs": []
    },
    {
      "cell_type": "code",
      "source": [
        "folders"
      ],
      "metadata": {
        "colab": {
          "base_uri": "https://localhost:8080/"
        },
        "id": "huZgPLmrLZvw",
        "outputId": "5907dd6b-f48e-470c-f5cb-a6b5fd97a236"
      },
      "execution_count": null,
      "outputs": [
        {
          "output_type": "execute_result",
          "data": {
            "text/plain": [
              "['Train/Uninfected', 'Train/Infected']"
            ]
          },
          "metadata": {},
          "execution_count": 27
        }
      ]
    },
    {
      "cell_type": "code",
      "source": [
        "# layers\n",
        "x = Flatten()(vgg19.output)"
      ],
      "metadata": {
        "id": "WA2T3EO-LdBw"
      },
      "execution_count": null,
      "outputs": []
    },
    {
      "cell_type": "code",
      "source": [
        "prediction = Dense(len(folders), activation='softmax')(x)\n",
        "\n",
        "# create a model object\n",
        "model = Model(inputs=vgg19.input, outputs=prediction)\n"
      ],
      "metadata": {
        "id": "-PF6MXHDLgVM"
      },
      "execution_count": null,
      "outputs": []
    },
    {
      "cell_type": "code",
      "source": [
        "# view the structure of the model\n",
        "model.summary()"
      ],
      "metadata": {
        "colab": {
          "base_uri": "https://localhost:8080/"
        },
        "id": "M9528QHLLlr4",
        "outputId": "f2bf1025-8dd2-425f-e3c0-2b4dc51b8c70"
      },
      "execution_count": null,
      "outputs": [
        {
          "output_type": "stream",
          "name": "stdout",
          "text": [
            "Model: \"model_1\"\n",
            "_________________________________________________________________\n",
            " Layer (type)                Output Shape              Param #   \n",
            "=================================================================\n",
            " input_2 (InputLayer)        [(None, 224, 224, 3)]     0         \n",
            "                                                                 \n",
            " block1_conv1 (Conv2D)       (None, 224, 224, 64)      1792      \n",
            "                                                                 \n",
            " block1_conv2 (Conv2D)       (None, 224, 224, 64)      36928     \n",
            "                                                                 \n",
            " block1_pool (MaxPooling2D)  (None, 112, 112, 64)      0         \n",
            "                                                                 \n",
            " block2_conv1 (Conv2D)       (None, 112, 112, 128)     73856     \n",
            "                                                                 \n",
            " block2_conv2 (Conv2D)       (None, 112, 112, 128)     147584    \n",
            "                                                                 \n",
            " block2_pool (MaxPooling2D)  (None, 56, 56, 128)       0         \n",
            "                                                                 \n",
            " block3_conv1 (Conv2D)       (None, 56, 56, 256)       295168    \n",
            "                                                                 \n",
            " block3_conv2 (Conv2D)       (None, 56, 56, 256)       590080    \n",
            "                                                                 \n",
            " block3_conv3 (Conv2D)       (None, 56, 56, 256)       590080    \n",
            "                                                                 \n",
            " block3_conv4 (Conv2D)       (None, 56, 56, 256)       590080    \n",
            "                                                                 \n",
            " block3_pool (MaxPooling2D)  (None, 28, 28, 256)       0         \n",
            "                                                                 \n",
            " block4_conv1 (Conv2D)       (None, 28, 28, 512)       1180160   \n",
            "                                                                 \n",
            " block4_conv2 (Conv2D)       (None, 28, 28, 512)       2359808   \n",
            "                                                                 \n",
            " block4_conv3 (Conv2D)       (None, 28, 28, 512)       2359808   \n",
            "                                                                 \n",
            " block4_conv4 (Conv2D)       (None, 28, 28, 512)       2359808   \n",
            "                                                                 \n",
            " block4_pool (MaxPooling2D)  (None, 14, 14, 512)       0         \n",
            "                                                                 \n",
            " block5_conv1 (Conv2D)       (None, 14, 14, 512)       2359808   \n",
            "                                                                 \n",
            " block5_conv2 (Conv2D)       (None, 14, 14, 512)       2359808   \n",
            "                                                                 \n",
            " block5_conv3 (Conv2D)       (None, 14, 14, 512)       2359808   \n",
            "                                                                 \n",
            " block5_conv4 (Conv2D)       (None, 14, 14, 512)       2359808   \n",
            "                                                                 \n",
            " block5_pool (MaxPooling2D)  (None, 7, 7, 512)         0         \n",
            "                                                                 \n",
            " flatten_2 (Flatten)         (None, 25088)             0         \n",
            "                                                                 \n",
            " dense_3 (Dense)             (None, 2)                 50178     \n",
            "                                                                 \n",
            "=================================================================\n",
            "Total params: 20074562 (76.58 MB)\n",
            "Trainable params: 50178 (196.01 KB)\n",
            "Non-trainable params: 20024384 (76.39 MB)\n",
            "_________________________________________________________________\n"
          ]
        }
      ]
    },
    {
      "cell_type": "code",
      "source": [
        "from tensorflow.keras.layers import MaxPooling2D"
      ],
      "metadata": {
        "id": "JMGisa2ZLmj4"
      },
      "execution_count": null,
      "outputs": []
    },
    {
      "cell_type": "code",
      "source": [
        "#Creating The model\n",
        "model = Sequential()\n",
        "model.add(Conv2D(filters=16,kernel_size=2,padding=\"same\",activation=\"relu\",input_shape=(224,224,3)))\n",
        "model.add(MaxPooling2D(pool_size=2))\n",
        "model.add(Conv2D(filters=32,kernel_size=2,padding=\"same\",activation =\"relu\"))\n",
        "model.add(MaxPooling2D(pool_size=2))\n",
        "model.add(Conv2D(filters=64,kernel_size=2,padding=\"same\",activation=\"relu\"))\n",
        "model.add(MaxPooling2D(pool_size=2))\n",
        "model.add(Flatten())\n",
        "model.add(Dense(500,activation=\"relu\"))\n",
        "model.add(Dense(2,activation=\"softmax\"))\n",
        "model.summary()"
      ],
      "metadata": {
        "colab": {
          "base_uri": "https://localhost:8080/"
        },
        "id": "5ZKCAlmvLrOq",
        "outputId": "13975348-a879-4b60-ec08-07c8b515c580"
      },
      "execution_count": null,
      "outputs": [
        {
          "output_type": "stream",
          "name": "stdout",
          "text": [
            "Model: \"sequential_1\"\n",
            "_________________________________________________________________\n",
            " Layer (type)                Output Shape              Param #   \n",
            "=================================================================\n",
            " conv2d_3 (Conv2D)           (None, 224, 224, 16)      208       \n",
            "                                                                 \n",
            " max_pooling2d_3 (MaxPoolin  (None, 112, 112, 16)      0         \n",
            " g2D)                                                            \n",
            "                                                                 \n",
            " conv2d_4 (Conv2D)           (None, 112, 112, 32)      2080      \n",
            "                                                                 \n",
            " max_pooling2d_4 (MaxPoolin  (None, 56, 56, 32)        0         \n",
            " g2D)                                                            \n",
            "                                                                 \n",
            " conv2d_5 (Conv2D)           (None, 56, 56, 64)        8256      \n",
            "                                                                 \n",
            " max_pooling2d_5 (MaxPoolin  (None, 28, 28, 64)        0         \n",
            " g2D)                                                            \n",
            "                                                                 \n",
            " flatten_3 (Flatten)         (None, 50176)             0         \n",
            "                                                                 \n",
            " dense_4 (Dense)             (None, 500)               25088500  \n",
            "                                                                 \n",
            " dense_5 (Dense)             (None, 2)                 1002      \n",
            "                                                                 \n",
            "=================================================================\n",
            "Total params: 25100046 (95.75 MB)\n",
            "Trainable params: 25100046 (95.75 MB)\n",
            "Non-trainable params: 0 (0.00 Byte)\n",
            "_________________________________________________________________\n"
          ]
        }
      ]
    },
    {
      "cell_type": "code",
      "source": [
        "model.compile(\n",
        "  loss='categorical_crossentropy',\n",
        "  optimizer='adam',\n",
        "  metrics=['accuracy']\n",
        ")"
      ],
      "metadata": {
        "id": "neCI4FbCLvdr"
      },
      "execution_count": null,
      "outputs": []
    },
    {
      "cell_type": "code",
      "source": [
        "# Creating more training data\n",
        "from tensorflow.keras.preprocessing.image import ImageDataGenerator\n",
        "\n",
        "train_datagen = ImageDataGenerator(rescale = 1./255,\n",
        "                                   shear_range = 0.2,\n",
        "                                   zoom_range = 0.2,\n",
        "                                   horizontal_flip = True)\n",
        "\n",
        "test_datagen = ImageDataGenerator(rescale = 1./255)"
      ],
      "metadata": {
        "id": "BSvErkMfLzCm"
      },
      "execution_count": null,
      "outputs": []
    },
    {
      "cell_type": "code",
      "source": [
        "!rm -rf `find -type d -name .ipynb_checkpoints`"
      ],
      "metadata": {
        "id": "ZVsBWK8eSBIr"
      },
      "execution_count": null,
      "outputs": []
    },
    {
      "cell_type": "code",
      "source": [
        "training_set = train_datagen.flow_from_directory('Train', target_size=(224,224), batch_size = 32, class_mode = 'categorical')"
      ],
      "metadata": {
        "colab": {
          "base_uri": "https://localhost:8080/"
        },
        "id": "uwb3n6_kQS6o",
        "outputId": "dae92c56-d542-44ed-b887-3b6e56e9430d"
      },
      "execution_count": null,
      "outputs": [
        {
          "output_type": "stream",
          "name": "stdout",
          "text": [
            "Found 416 images belonging to 2 classes.\n"
          ]
        }
      ]
    },
    {
      "cell_type": "code",
      "source": [
        "test_set = test_datagen.flow_from_directory('Test',\n",
        "                                            target_size = (224, 224),\n",
        "                                            batch_size = 32,\n",
        "                                            class_mode = 'categorical')"
      ],
      "metadata": {
        "id": "8J5TV_b3L1rU",
        "colab": {
          "base_uri": "https://localhost:8080/"
        },
        "outputId": "706bd9f6-660b-42ed-fc05-58c5be67986d"
      },
      "execution_count": null,
      "outputs": [
        {
          "output_type": "stream",
          "name": "stdout",
          "text": [
            "Found 134 images belonging to 2 classes.\n"
          ]
        }
      ]
    },
    {
      "cell_type": "code",
      "source": [
        "# fit the model\n",
        "r = model.fit(\n",
        "  training_set,\n",
        "  validation_data=test_set,\n",
        "  epochs=50,\n",
        "  steps_per_epoch=len(training_set),\n",
        "  validation_steps=len(test_set)\n",
        ")\n"
      ],
      "metadata": {
        "id": "p-5u6mZQMu8t",
        "colab": {
          "base_uri": "https://localhost:8080/"
        },
        "outputId": "209d3f3a-b308-4987-de81-98c62894d4f3"
      },
      "execution_count": null,
      "outputs": [
        {
          "output_type": "stream",
          "name": "stdout",
          "text": [
            "Epoch 1/50\n",
            "13/13 [==============================] - 43s 3s/step - loss: 1.6122 - accuracy: 0.5288 - val_loss: 0.8773 - val_accuracy: 0.3284\n",
            "Epoch 2/50\n",
            "13/13 [==============================] - 28s 2s/step - loss: 0.7090 - accuracy: 0.5096 - val_loss: 0.6892 - val_accuracy: 0.5299\n",
            "Epoch 3/50\n",
            "13/13 [==============================] - 28s 2s/step - loss: 0.6736 - accuracy: 0.5865 - val_loss: 0.6709 - val_accuracy: 0.6343\n",
            "Epoch 4/50\n",
            "13/13 [==============================] - 30s 2s/step - loss: 0.6439 - accuracy: 0.6442 - val_loss: 0.8227 - val_accuracy: 0.3955\n",
            "Epoch 5/50\n",
            "13/13 [==============================] - 27s 2s/step - loss: 0.6133 - accuracy: 0.6442 - val_loss: 0.7114 - val_accuracy: 0.4776\n",
            "Epoch 6/50\n",
            "13/13 [==============================] - 28s 2s/step - loss: 0.5583 - accuracy: 0.7188 - val_loss: 1.0461 - val_accuracy: 0.4030\n",
            "Epoch 7/50\n",
            "13/13 [==============================] - 28s 2s/step - loss: 0.5112 - accuracy: 0.7380 - val_loss: 1.3283 - val_accuracy: 0.3731\n",
            "Epoch 8/50\n",
            "13/13 [==============================] - 28s 2s/step - loss: 0.5124 - accuracy: 0.7284 - val_loss: 0.7944 - val_accuracy: 0.4328\n",
            "Epoch 9/50\n",
            "13/13 [==============================] - 28s 2s/step - loss: 0.4295 - accuracy: 0.7909 - val_loss: 0.8178 - val_accuracy: 0.4627\n",
            "Epoch 10/50\n",
            "13/13 [==============================] - 30s 2s/step - loss: 0.4166 - accuracy: 0.7957 - val_loss: 0.7798 - val_accuracy: 0.5448\n",
            "Epoch 11/50\n",
            "13/13 [==============================] - 28s 2s/step - loss: 0.4026 - accuracy: 0.8365 - val_loss: 0.9950 - val_accuracy: 0.4403\n",
            "Epoch 12/50\n",
            "13/13 [==============================] - 28s 2s/step - loss: 0.3698 - accuracy: 0.8269 - val_loss: 0.9951 - val_accuracy: 0.4552\n",
            "Epoch 13/50\n",
            "13/13 [==============================] - 28s 2s/step - loss: 0.3729 - accuracy: 0.8510 - val_loss: 1.0583 - val_accuracy: 0.4851\n",
            "Epoch 14/50\n",
            "13/13 [==============================] - 27s 2s/step - loss: 0.3862 - accuracy: 0.8101 - val_loss: 0.6088 - val_accuracy: 0.6194\n",
            "Epoch 15/50\n",
            "13/13 [==============================] - 28s 2s/step - loss: 0.3246 - accuracy: 0.8798 - val_loss: 0.7352 - val_accuracy: 0.5672\n",
            "Epoch 16/50\n",
            "13/13 [==============================] - 27s 2s/step - loss: 0.3145 - accuracy: 0.8774 - val_loss: 0.5319 - val_accuracy: 0.7090\n",
            "Epoch 17/50\n",
            "13/13 [==============================] - 27s 2s/step - loss: 0.2684 - accuracy: 0.8942 - val_loss: 0.6473 - val_accuracy: 0.6716\n",
            "Epoch 18/50\n",
            "13/13 [==============================] - 27s 2s/step - loss: 0.2140 - accuracy: 0.9231 - val_loss: 0.5057 - val_accuracy: 0.7164\n",
            "Epoch 19/50\n",
            "13/13 [==============================] - 28s 2s/step - loss: 0.2424 - accuracy: 0.9231 - val_loss: 0.5279 - val_accuracy: 0.7612\n",
            "Epoch 20/50\n",
            "13/13 [==============================] - 38s 3s/step - loss: 0.2146 - accuracy: 0.9183 - val_loss: 0.5374 - val_accuracy: 0.7463\n",
            "Epoch 21/50\n",
            "13/13 [==============================] - 28s 2s/step - loss: 0.1613 - accuracy: 0.9447 - val_loss: 0.5078 - val_accuracy: 0.7537\n",
            "Epoch 22/50\n",
            "13/13 [==============================] - 28s 2s/step - loss: 0.1732 - accuracy: 0.9399 - val_loss: 0.5365 - val_accuracy: 0.7313\n",
            "Epoch 23/50\n",
            "13/13 [==============================] - 27s 2s/step - loss: 0.1841 - accuracy: 0.9375 - val_loss: 0.4910 - val_accuracy: 0.7761\n",
            "Epoch 24/50\n",
            "13/13 [==============================] - 28s 2s/step - loss: 0.1952 - accuracy: 0.9303 - val_loss: 0.4488 - val_accuracy: 0.7985\n",
            "Epoch 25/50\n",
            "13/13 [==============================] - 28s 2s/step - loss: 0.1838 - accuracy: 0.9519 - val_loss: 0.5945 - val_accuracy: 0.7537\n",
            "Epoch 26/50\n",
            "13/13 [==============================] - 28s 2s/step - loss: 0.1695 - accuracy: 0.9519 - val_loss: 0.3638 - val_accuracy: 0.8507\n",
            "Epoch 27/50\n",
            "13/13 [==============================] - 28s 2s/step - loss: 0.1642 - accuracy: 0.9543 - val_loss: 0.6151 - val_accuracy: 0.7313\n",
            "Epoch 28/50\n",
            "13/13 [==============================] - 28s 2s/step - loss: 0.1835 - accuracy: 0.9447 - val_loss: 0.5168 - val_accuracy: 0.7612\n",
            "Epoch 29/50\n",
            "13/13 [==============================] - 28s 2s/step - loss: 0.1604 - accuracy: 0.9303 - val_loss: 0.3417 - val_accuracy: 0.8060\n",
            "Epoch 30/50\n",
            "13/13 [==============================] - 28s 2s/step - loss: 0.1349 - accuracy: 0.9639 - val_loss: 0.5106 - val_accuracy: 0.7836\n",
            "Epoch 31/50\n",
            "13/13 [==============================] - 27s 2s/step - loss: 0.1362 - accuracy: 0.9591 - val_loss: 0.4540 - val_accuracy: 0.8209\n",
            "Epoch 32/50\n",
            "13/13 [==============================] - 28s 2s/step - loss: 0.1661 - accuracy: 0.9375 - val_loss: 0.3471 - val_accuracy: 0.8657\n",
            "Epoch 33/50\n",
            "13/13 [==============================] - 28s 2s/step - loss: 0.1378 - accuracy: 0.9760 - val_loss: 0.2804 - val_accuracy: 0.8806\n",
            "Epoch 34/50\n",
            "13/13 [==============================] - 28s 2s/step - loss: 0.1069 - accuracy: 0.9688 - val_loss: 0.3958 - val_accuracy: 0.8582\n",
            "Epoch 35/50\n",
            "13/13 [==============================] - 28s 2s/step - loss: 0.0986 - accuracy: 0.9784 - val_loss: 0.6381 - val_accuracy: 0.7985\n",
            "Epoch 36/50\n",
            "13/13 [==============================] - 28s 2s/step - loss: 0.0787 - accuracy: 0.9688 - val_loss: 0.3171 - val_accuracy: 0.8731\n",
            "Epoch 37/50\n",
            "13/13 [==============================] - 28s 2s/step - loss: 0.0932 - accuracy: 0.9736 - val_loss: 0.3535 - val_accuracy: 0.8582\n",
            "Epoch 38/50\n",
            "13/13 [==============================] - 36s 3s/step - loss: 0.0890 - accuracy: 0.9688 - val_loss: 0.2653 - val_accuracy: 0.8955\n",
            "Epoch 39/50\n",
            "13/13 [==============================] - 28s 2s/step - loss: 0.1019 - accuracy: 0.9712 - val_loss: 0.4351 - val_accuracy: 0.8582\n",
            "Epoch 40/50\n",
            "13/13 [==============================] - 28s 2s/step - loss: 0.0864 - accuracy: 0.9663 - val_loss: 0.2483 - val_accuracy: 0.8955\n",
            "Epoch 41/50\n",
            "13/13 [==============================] - 28s 2s/step - loss: 0.0807 - accuracy: 0.9856 - val_loss: 0.3734 - val_accuracy: 0.8582\n",
            "Epoch 42/50\n",
            "13/13 [==============================] - 27s 2s/step - loss: 0.0825 - accuracy: 0.9736 - val_loss: 0.3268 - val_accuracy: 0.8731\n",
            "Epoch 43/50\n",
            "13/13 [==============================] - 28s 2s/step - loss: 0.0656 - accuracy: 0.9736 - val_loss: 0.4074 - val_accuracy: 0.8657\n",
            "Epoch 44/50\n",
            "13/13 [==============================] - 28s 2s/step - loss: 0.0447 - accuracy: 0.9880 - val_loss: 0.3019 - val_accuracy: 0.9030\n",
            "Epoch 45/50\n",
            "13/13 [==============================] - 28s 2s/step - loss: 0.0555 - accuracy: 0.9904 - val_loss: 0.3400 - val_accuracy: 0.8881\n",
            "Epoch 46/50\n",
            "13/13 [==============================] - 28s 2s/step - loss: 0.0724 - accuracy: 0.9784 - val_loss: 0.4180 - val_accuracy: 0.8582\n",
            "Epoch 47/50\n",
            "13/13 [==============================] - 30s 2s/step - loss: 0.0568 - accuracy: 0.9952 - val_loss: 0.3882 - val_accuracy: 0.8881\n",
            "Epoch 48/50\n",
            "13/13 [==============================] - 27s 2s/step - loss: 0.0605 - accuracy: 0.9856 - val_loss: 0.2941 - val_accuracy: 0.8731\n",
            "Epoch 49/50\n",
            "13/13 [==============================] - 28s 2s/step - loss: 0.0734 - accuracy: 0.9760 - val_loss: 0.4079 - val_accuracy: 0.8657\n",
            "Epoch 50/50\n",
            "13/13 [==============================] - 27s 2s/step - loss: 0.0682 - accuracy: 0.9832 - val_loss: 0.3605 - val_accuracy: 0.8731\n"
          ]
        }
      ]
    },
    {
      "cell_type": "code",
      "source": [
        "# plot the loss\n",
        "plt.plot(r.history['loss'], label='train loss')\n",
        "plt.plot(r.history['val_loss'], label='val loss')\n",
        "plt.legend()\n",
        "plt.show()\n",
        "plt.savefig('LossVal_loss')\n",
        "\n",
        "# plot the accuracy\n",
        "plt.plot(r.history['accuracy'], label='train acc')\n",
        "plt.plot(r.history['val_accuracy'], label='val acc')\n",
        "plt.legend()\n",
        "plt.show()\n",
        "plt.savefig('AccVal_acc')"
      ],
      "metadata": {
        "id": "V65ne1VhSWV4",
        "colab": {
          "base_uri": "https://localhost:8080/",
          "height": 860
        },
        "outputId": "e6223bdb-3661-44ff-96dd-fc2cbadf0cc4"
      },
      "execution_count": null,
      "outputs": [
        {
          "output_type": "display_data",
          "data": {
            "text/plain": [
              "<Figure size 640x480 with 1 Axes>"
            ],
            "image/png": "[encoded data removed]"
          },
          "metadata": {}
        },
        {
          "output_type": "display_data",
          "data": {
            "text/plain": [
              "<Figure size 640x480 with 1 Axes>"
            ],
            "image/png": "[encoded data removed]"
          },
          "metadata": {}
        },
        {
          "output_type": "display_data",
          "data": {
            "text/plain": [
              "<Figure size 640x480 with 0 Axes>"
            ]
          },
          "metadata": {}
        }
      ]
    },
    {
      "cell_type": "code",
      "source": [
        "from tensorflow.keras.models import load_model\n",
        "\n",
        "model.save('model_vgg19.h5')"
      ],
      "metadata": {
        "id": "7XAoCcvDS1cE"
      },
      "execution_count": null,
      "outputs": []
    },
    {
      "cell_type": "code",
      "source": [
        "y_pred = model.predict(test_set)"
      ],
      "metadata": {
        "id": "rPhimKjiS-Gb",
        "colab": {
          "base_uri": "https://localhost:8080/"
        },
        "outputId": "51f49193-696f-44f8-ca3b-a0193c489835"
      },
      "execution_count": null,
      "outputs": [
        {
          "output_type": "stream",
          "name": "stdout",
          "text": [
            "5/5 [==============================] - 2s 332ms/step\n"
          ]
        }
      ]
    },
    {
      "cell_type": "code",
      "source": [
        "y_pred"
      ],
      "metadata": {
        "id": "D46QfrH9TDpL",
        "colab": {
          "base_uri": "https://localhost:8080/"
        },
        "outputId": "44ff4b67-c128-49b6-ccfe-a202f01544fd"
      },
      "execution_count": null,
      "outputs": [
        {
          "output_type": "execute_result",
          "data": {
            "text/plain": [
              "array([[9.98928845e-01, 1.07113575e-03],\n",
              "       [9.99238491e-01, 7.61490548e-04],\n",
              "       [9.99836922e-01, 1.63159653e-04],\n",
              "       [8.79327297e-01, 1.20672740e-01],\n",
              "       [9.78458047e-01, 2.15418581e-02],\n",
              "       [2.10128967e-02, 9.78987038e-01],\n",
              "       [9.99999940e-01, 1.56231774e-08],\n",
              "       [9.88023818e-01, 1.19762104e-02],\n",
              "       [9.99883354e-01, 1.16560223e-04],\n",
              "       [1.40044680e-02, 9.85995471e-01],\n",
              "       [1.01597488e-01, 8.98402452e-01],\n",
              "       [9.66619730e-01, 3.33803035e-02],\n",
              "       [1.15218505e-01, 8.84781480e-01],\n",
              "       [2.63568163e-01, 7.36431777e-01],\n",
              "       [9.96128023e-01, 3.87185067e-03],\n",
              "       [9.00905252e-01, 9.90948081e-02],\n",
              "       [4.91333008e-03, 9.95086551e-01],\n",
              "       [1.21847866e-02, 9.87815261e-01],\n",
              "       [9.99995530e-01, 4.42411101e-06],\n",
              "       [9.97971177e-01, 2.02875468e-03],\n",
              "       [9.99994457e-01, 5.46627780e-06],\n",
              "       [9.99992907e-01, 6.99928387e-06],\n",
              "       [3.48119624e-02, 9.65188086e-01],\n",
              "       [9.99943912e-01, 5.60039989e-05],\n",
              "       [5.87838776e-02, 9.41216171e-01],\n",
              "       [9.99996483e-01, 3.47605601e-06],\n",
              "       [8.62070322e-02, 9.13792908e-01],\n",
              "       [9.98657346e-01, 1.34262070e-03],\n",
              "       [1.43747282e-04, 9.99856234e-01],\n",
              "       [2.93947697e-01, 7.06052303e-01],\n",
              "       [9.99999821e-01, 7.79326896e-08],\n",
              "       [9.99287605e-01, 7.12432782e-04],\n",
              "       [1.05852801e-02, 9.89414632e-01],\n",
              "       [6.13008440e-01, 3.86991560e-01],\n",
              "       [9.80491459e-01, 1.95084866e-02],\n",
              "       [1.88590270e-02, 9.81140971e-01],\n",
              "       [2.18152534e-02, 9.78184700e-01],\n",
              "       [9.98379529e-01, 1.62054296e-03],\n",
              "       [9.98889089e-01, 1.11100555e-03],\n",
              "       [3.24395089e-03, 9.96756077e-01],\n",
              "       [9.93278623e-01, 6.72136527e-03],\n",
              "       [9.99592602e-01, 4.07355401e-04],\n",
              "       [2.11318031e-01, 7.88681984e-01],\n",
              "       [9.99315679e-01, 6.84235536e-04],\n",
              "       [1.34994343e-01, 8.65005672e-01],\n",
              "       [9.95825291e-01, 4.17469395e-03],\n",
              "       [9.98032808e-01, 1.96708343e-03],\n",
              "       [4.38706070e-01, 5.61293900e-01],\n",
              "       [9.98243630e-01, 1.75628881e-03],\n",
              "       [9.99947131e-01, 5.27606862e-05],\n",
              "       [9.97545123e-01, 2.45484407e-03],\n",
              "       [6.86272793e-03, 9.93137240e-01],\n",
              "       [4.15084213e-01, 5.84915817e-01],\n",
              "       [9.69790578e-01, 3.02094761e-02],\n",
              "       [7.91993201e-01, 2.08006799e-01],\n",
              "       [1.09514492e-02, 9.89048481e-01],\n",
              "       [1.18698590e-02, 9.88130093e-01],\n",
              "       [7.24057807e-03, 9.92759407e-01],\n",
              "       [9.99997437e-01, 2.45301999e-06],\n",
              "       [2.81050848e-03, 9.97189403e-01],\n",
              "       [9.91955578e-01, 8.04446917e-03],\n",
              "       [9.99931633e-01, 6.83388789e-05],\n",
              "       [3.60963225e-01, 6.39036655e-01],\n",
              "       [9.99984562e-01, 1.53720412e-05],\n",
              "       [9.96724784e-01, 3.27511248e-03],\n",
              "       [9.93552089e-01, 6.44785771e-03],\n",
              "       [9.99895036e-01, 1.04861065e-04],\n",
              "       [9.99999940e-01, 2.54230165e-10],\n",
              "       [7.05020428e-02, 9.29497898e-01],\n",
              "       [2.64229049e-04, 9.99735832e-01],\n",
              "       [9.07715559e-01, 9.22844857e-02],\n",
              "       [1.91356130e-02, 9.80864286e-01],\n",
              "       [1.15281530e-03, 9.98847187e-01],\n",
              "       [9.99998510e-01, 1.42688646e-06],\n",
              "       [9.98172224e-01, 1.82768621e-03],\n",
              "       [1.61642089e-01, 8.38357866e-01],\n",
              "       [9.04832687e-03, 9.90951717e-01],\n",
              "       [9.99839544e-01, 1.60584270e-04],\n",
              "       [9.99816179e-01, 1.83780357e-04],\n",
              "       [9.96390164e-01, 3.60996462e-03],\n",
              "       [9.98312891e-01, 1.68700423e-03],\n",
              "       [2.11675055e-02, 9.78832483e-01],\n",
              "       [2.09371708e-02, 9.79062796e-01],\n",
              "       [9.98437405e-01, 1.56269327e-03],\n",
              "       [8.15068837e-03, 9.91849244e-01],\n",
              "       [4.56035212e-02, 9.54396486e-01],\n",
              "       [3.25765669e-01, 6.74234271e-01],\n",
              "       [1.60504971e-02, 9.83949482e-01],\n",
              "       [9.99470830e-01, 5.29170735e-04],\n",
              "       [2.93479156e-04, 9.99706507e-01],\n",
              "       [3.15922052e-02, 9.68407810e-01],\n",
              "       [1.35151017e-02, 9.86485004e-01],\n",
              "       [9.88000274e-01, 1.19996369e-02],\n",
              "       [9.97791052e-01, 2.20889947e-03],\n",
              "       [9.99928057e-01, 7.18367592e-05],\n",
              "       [9.99898732e-01, 1.01237230e-04],\n",
              "       [9.97999012e-01, 2.00092653e-03],\n",
              "       [9.99996364e-01, 3.58429133e-06],\n",
              "       [9.99723434e-01, 2.76589009e-04],\n",
              "       [9.98648942e-01, 1.35111832e-03],\n",
              "       [9.99619186e-01, 3.80822603e-04],\n",
              "       [9.98264492e-01, 1.73547317e-03],\n",
              "       [9.99996603e-01, 3.32623381e-06],\n",
              "       [9.94731307e-01, 5.26870368e-03],\n",
              "       [9.99840736e-01, 1.59319432e-04],\n",
              "       [2.12456775e-03, 9.97875392e-01],\n",
              "       [8.64340842e-01, 1.35659084e-01],\n",
              "       [9.97449040e-01, 2.55084434e-03],\n",
              "       [3.14487845e-01, 6.85512125e-01],\n",
              "       [9.99999940e-01, 2.47652343e-09],\n",
              "       [9.74202156e-01, 2.57979315e-02],\n",
              "       [9.91877735e-01, 8.12224206e-03],\n",
              "       [7.95927132e-04, 9.99204099e-01],\n",
              "       [9.96380150e-01, 3.61991045e-03],\n",
              "       [9.94736314e-01, 5.26372809e-03],\n",
              "       [9.99476373e-01, 5.23573312e-04],\n",
              "       [9.87649262e-01, 1.23506794e-02],\n",
              "       [9.93173718e-01, 6.82622986e-03],\n",
              "       [9.99999940e-01, 3.55832563e-09],\n",
              "       [9.64724600e-01, 3.52754369e-02],\n",
              "       [6.60899341e-01, 3.39100569e-01],\n",
              "       [9.99334037e-01, 6.65922824e-04],\n",
              "       [9.99988377e-01, 1.15560706e-05],\n",
              "       [9.98731673e-01, 1.26833364e-03],\n",
              "       [4.11272973e-01, 5.88726938e-01],\n",
              "       [9.98821676e-01, 1.17828359e-03],\n",
              "       [9.99952376e-01, 4.76188980e-05],\n",
              "       [9.99372900e-01, 6.27094531e-04],\n",
              "       [9.92461026e-01, 7.53899571e-03],\n",
              "       [9.80815012e-03, 9.90191817e-01],\n",
              "       [4.75509949e-02, 9.52449024e-01],\n",
              "       [1.95003286e-01, 8.04996789e-01],\n",
              "       [1.66420847e-01, 8.33579183e-01],\n",
              "       [2.97759951e-04, 9.99702156e-01]], dtype=float32)"
            ]
          },
          "metadata": {},
          "execution_count": 72
        }
      ]
    },
    {
      "cell_type": "code",
      "source": [
        "import numpy as np\n",
        "y_pred = np.argmax(y_pred, axis=1)"
      ],
      "metadata": {
        "id": "gAvUUMndTIRt"
      },
      "execution_count": null,
      "outputs": []
    },
    {
      "cell_type": "code",
      "source": [
        "y_pred"
      ],
      "metadata": {
        "id": "P2SU38ZrTKoM",
        "colab": {
          "base_uri": "https://localhost:8080/"
        },
        "outputId": "477585aa-8968-4a54-f2fc-51d4a191b28f"
      },
      "execution_count": null,
      "outputs": [
        {
          "output_type": "execute_result",
          "data": {
            "text/plain": [
              "array([0, 0, 0, 0, 0, 1, 0, 0, 0, 1, 1, 0, 1, 1, 0, 0, 1, 1, 0, 0, 0, 0,\n",
              "       1, 0, 1, 0, 1, 0, 1, 1, 0, 0, 1, 0, 0, 1, 1, 0, 0, 1, 0, 0, 1, 0,\n",
              "       1, 0, 0, 1, 0, 0, 0, 1, 1, 0, 0, 1, 1, 1, 0, 1, 0, 0, 1, 0, 0, 0,\n",
              "       0, 0, 1, 1, 0, 1, 1, 0, 0, 1, 1, 0, 0, 0, 0, 1, 1, 0, 1, 1, 1, 1,\n",
              "       0, 1, 1, 1, 0, 0, 0, 0, 0, 0, 0, 0, 0, 0, 0, 0, 0, 1, 0, 0, 1, 0,\n",
              "       0, 0, 1, 0, 0, 0, 0, 0, 0, 0, 0, 0, 0, 0, 1, 0, 0, 0, 0, 1, 1, 1,\n",
              "       1, 1])"
            ]
          },
          "metadata": {},
          "execution_count": 74
        }
      ]
    },
    {
      "cell_type": "code",
      "source": [
        "#read the image and predict\n",
        "from tensorflow.keras.models import load_model\n",
        "from tensorflow.keras.preprocessing import image"
      ],
      "metadata": {
        "id": "THYTceH8TNWG"
      },
      "execution_count": null,
      "outputs": []
    },
    {
      "cell_type": "code",
      "source": [
        "model=load_model('model_vgg19.h5')"
      ],
      "metadata": {
        "id": "zr2slkZZTQHv"
      },
      "execution_count": null,
      "outputs": []
    },
    {
      "cell_type": "code",
      "source": [
        "img=image.load_img('Test/Uninfected/2.png',target_size=(224,224))\n"
      ],
      "metadata": {
        "id": "e0dpXg6zTSgZ"
      },
      "execution_count": null,
      "outputs": []
    },
    {
      "cell_type": "code",
      "source": [
        "x=image.img_to_array(img)\n",
        "x"
      ],
      "metadata": {
        "id": "2j74abqnTWfX",
        "colab": {
          "base_uri": "https://localhost:8080/"
        },
        "outputId": "f3b258a1-92fb-4505-b530-2990abfe7b1a"
      },
      "execution_count": null,
      "outputs": [
        {
          "output_type": "execute_result",
          "data": {
            "text/plain": [
              "array([[[0., 0., 0.],\n",
              "        [0., 0., 0.],\n",
              "        [0., 0., 0.],\n",
              "        ...,\n",
              "        [0., 0., 0.],\n",
              "        [0., 0., 0.],\n",
              "        [0., 0., 0.]],\n",
              "\n",
              "       [[0., 0., 0.],\n",
              "        [0., 0., 0.],\n",
              "        [0., 0., 0.],\n",
              "        ...,\n",
              "        [0., 0., 0.],\n",
              "        [0., 0., 0.],\n",
              "        [0., 0., 0.]],\n",
              "\n",
              "       [[0., 0., 0.],\n",
              "        [0., 0., 0.],\n",
              "        [0., 0., 0.],\n",
              "        ...,\n",
              "        [0., 0., 0.],\n",
              "        [0., 0., 0.],\n",
              "        [0., 0., 0.]],\n",
              "\n",
              "       ...,\n",
              "\n",
              "       [[0., 0., 0.],\n",
              "        [0., 0., 0.],\n",
              "        [0., 0., 0.],\n",
              "        ...,\n",
              "        [0., 0., 0.],\n",
              "        [0., 0., 0.],\n",
              "        [0., 0., 0.]],\n",
              "\n",
              "       [[0., 0., 0.],\n",
              "        [0., 0., 0.],\n",
              "        [0., 0., 0.],\n",
              "        ...,\n",
              "        [0., 0., 0.],\n",
              "        [0., 0., 0.],\n",
              "        [0., 0., 0.]],\n",
              "\n",
              "       [[0., 0., 0.],\n",
              "        [0., 0., 0.],\n",
              "        [0., 0., 0.],\n",
              "        ...,\n",
              "        [0., 0., 0.],\n",
              "        [0., 0., 0.],\n",
              "        [0., 0., 0.]]], dtype=float32)"
            ]
          },
          "metadata": {},
          "execution_count": 107
        }
      ]
    },
    {
      "cell_type": "code",
      "source": [
        "x.shape"
      ],
      "metadata": {
        "id": "npUzVvFvTYGb",
        "colab": {
          "base_uri": "https://localhost:8080/"
        },
        "outputId": "54237a7a-1a92-412e-eeee-f1872a6bc3e2"
      },
      "execution_count": null,
      "outputs": [
        {
          "output_type": "execute_result",
          "data": {
            "text/plain": [
              "(224, 224, 3)"
            ]
          },
          "metadata": {},
          "execution_count": 108
        }
      ]
    },
    {
      "cell_type": "code",
      "source": [
        "x=x/255"
      ],
      "metadata": {
        "id": "o1XV5ZVKTbbS"
      },
      "execution_count": null,
      "outputs": []
    },
    {
      "cell_type": "code",
      "source": [
        "x=np.expand_dims(x,axis=0)\n",
        "img_data=preprocess_input(x)\n",
        "img_data.shape"
      ],
      "metadata": {
        "id": "ImB-o42ZTdb5",
        "colab": {
          "base_uri": "https://localhost:8080/"
        },
        "outputId": "8c60982e-5306-4f8c-807c-697b9f4ce9c7"
      },
      "execution_count": null,
      "outputs": [
        {
          "output_type": "execute_result",
          "data": {
            "text/plain": [
              "(1, 224, 224, 3)"
            ]
          },
          "metadata": {},
          "execution_count": 110
        }
      ]
    },
    {
      "cell_type": "code",
      "source": [
        "model.predict(img_data)"
      ],
      "metadata": {
        "id": "R_XfAsFGTgcq",
        "colab": {
          "base_uri": "https://localhost:8080/"
        },
        "outputId": "6bfe0a70-706b-4f94-e556-860f9dfccbac"
      },
      "execution_count": null,
      "outputs": [
        {
          "output_type": "stream",
          "name": "stdout",
          "text": [
            "1/1 [==============================] - 0s 51ms/step\n"
          ]
        },
        {
          "output_type": "execute_result",
          "data": {
            "text/plain": [
              "array([[0., 1.]], dtype=float32)"
            ]
          },
          "metadata": {},
          "execution_count": 111
        }
      ]
    },
    {
      "cell_type": "code",
      "source": [
        "a=np.argmax(model.predict(img_data), axis=1)"
      ],
      "metadata": {
        "id": "GnPb7UcyTjov",
        "colab": {
          "base_uri": "https://localhost:8080/"
        },
        "outputId": "2941332f-5ec5-4add-ef45-4578431d5196"
      },
      "execution_count": null,
      "outputs": [
        {
          "output_type": "stream",
          "name": "stdout",
          "text": [
            "1/1 [==============================] - 0s 40ms/step\n"
          ]
        }
      ]
    },
    {
      "cell_type": "code",
      "source": [
        "if(a==1):\n",
        "    print(\"Uninfected\")\n",
        "else:\n",
        "    print(\"Infected\")"
      ],
      "metadata": {
        "id": "CxmVB1oqTlvp",
        "colab": {
          "base_uri": "https://localhost:8080/"
        },
        "outputId": "2ef90f9a-0a0d-47c3-c795-83a0d5d4c5a5"
      },
      "execution_count": null,
      "outputs": [
        {
          "output_type": "stream",
          "name": "stdout",
          "text": [
            "Uninfected\n"
          ]
        }
      ]
    },
    {
      "cell_type": "code",
      "source": [
        "# Evaluate the model on the test set\n",
        "test_loss, test_accuracy = model.evaluate(test_set)\n",
        "\n",
        "# Print the accuracy\n",
        "print('Test Accuracy:', test_accuracy)\n"
      ],
      "metadata": {
        "id": "Qc325wVjsQT5",
        "colab": {
          "base_uri": "https://localhost:8080/"
        },
        "outputId": "8cc45442-d4a9-463b-c434-d1f9d70bb69d"
      },
      "execution_count": null,
      "outputs": [
        {
          "output_type": "stream",
          "name": "stdout",
          "text": [
            "5/5 [==============================] - 2s 326ms/step - loss: 0.3605 - accuracy: 0.8731\n",
            "Test Accuracy: 0.8731343150138855\n"
          ]
        }
      ]
    },
    {
      "cell_type": "code",
      "source": [
        "from sklearn.metrics import confusion_matrix\n",
        "import seaborn as sns\n",
        "import matplotlib.pyplot as plt\n",
        "\n",
        "# Make predictions on the test set\n",
        "y_pred = model.predict(test_set)\n",
        "y_pred_classes = np.argmax(y_pred, axis=1)\n",
        "\n",
        "# Get the true labels of the test set\n",
        "y_true = test_set.classes\n",
        "\n",
        "# Compute confusion matrix\n",
        "conf_matrix = confusion_matrix(y_true, y_pred_classes)\n",
        "\n",
        "# Plot confusion matrix\n",
        "plt.figure(figsize=(8, 6))\n",
        "sns.heatmap(conf_matrix, annot=True, fmt='d', cmap='Blues', xticklabels=['Infected', 'Uninfected'], yticklabels=['Infected', 'Uninfected'])\n",
        "plt.xlabel('Predicted Label')\n",
        "plt.ylabel('True Label')\n",
        "plt.title('Confusion Matrix')\n",
        "plt.show()\n"
      ],
      "metadata": {
        "id": "BSiyl7l8TxgZ",
        "outputId": "4b595f99-34db-429e-a4ae-7146a3c35029",
        "colab": {
          "base_uri": "https://localhost:8080/",
          "height": 581
        }
      },
      "execution_count": null,
      "outputs": [
        {
          "output_type": "stream",
          "name": "stdout",
          "text": [
            "5/5 [==============================] - 2s 406ms/step\n"
          ]
        },
        {
          "output_type": "display_data",
          "data": {
            "text/plain": [
              "<Figure size 800x600 with 2 Axes>"
            ],
            "image/png": "[encoded data removed]"
          },
          "metadata": {}
        }
      ]
    }
  ]
}